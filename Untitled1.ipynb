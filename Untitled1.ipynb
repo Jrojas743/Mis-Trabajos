{
  "nbformat": 4,
  "nbformat_minor": 0,
  "metadata": {
    "colab": {
      "provenance": [],
      "authorship_tag": "ABX9TyN3FUoIgSOicTBa1t0Ipe1J",
      "include_colab_link": true
    },
    "kernelspec": {
      "name": "python3",
      "display_name": "Python 3"
    },
    "language_info": {
      "name": "python"
    }
  },
  "cells": [
    {
      "cell_type": "markdown",
      "metadata": {
        "id": "view-in-github",
        "colab_type": "text"
      },
      "source": [
        "<a href=\"https://colab.research.google.com/github/Jrojas743/Mis-Trabajos/blob/main/Untitled1.ipynb\" target=\"_parent\"><img src=\"https://colab.research.google.com/assets/colab-badge.svg\" alt=\"Open In Colab\"/></a>"
      ]
    },
    {
      "cell_type": "code",
      "execution_count": 1,
      "metadata": {
        "colab": {
          "base_uri": "https://localhost:8080/"
        },
        "id": "83SP9xi57r-d",
        "outputId": "1d10af0c-4a19-405d-9531-fb708e50ed42"
      },
      "outputs": [
        {
          "output_type": "stream",
          "name": "stdout",
          "text": [
            "Matriz Inversa:\n",
            "[[ 0.5    0.25   0.   ]\n",
            " [-2.75  -0.625  0.5  ]\n",
            " [-0.5    0.25  -0.   ]]\n"
          ]
        }
      ],
      "source": [
        "import numpy as np\n",
        "\n",
        "# Definir la matriz\n",
        "matrix = np.array([[1, 0, -1],\n",
        "                   [2, 0, 2],\n",
        "                   [8, 2, -3]])\n",
        "\n",
        "# Calcular la inversa de la matriz\n",
        "inverse = np.linalg.inv(matrix)\n",
        "\n",
        "# Imprimir la matriz inversa\n",
        "print(\"Matriz Inversa:\")\n",
        "print(inverse)\n"
      ]
    },
    {
      "cell_type": "markdown",
      "source": [],
      "metadata": {
        "id": "tq1evq1X8WE0"
      }
    },
    {
      "cell_type": "code",
      "source": [],
      "metadata": {
        "id": "4FdkzZKV8Wcy"
      },
      "execution_count": null,
      "outputs": []
    },
    {
      "cell_type": "markdown",
      "source": [],
      "metadata": {
        "id": "yLkwNa-18W8S"
      }
    }
  ]
}